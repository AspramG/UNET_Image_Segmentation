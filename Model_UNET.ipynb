{
  "cells": [
    {
      "cell_type": "markdown",
      "metadata": {
        "id": "mL8tpmI2pYnY"
      },
      "source": [
        "## Model"
      ]
    },
    {
      "cell_type": "code",
      "execution_count": null,
      "metadata": {
        "colab": {
          "base_uri": "https://localhost:8080/"
        },
        "id": "_i8_ISHFQPEb",
        "outputId": "d829ee1e-bbaa-4429-98e6-0117bf57821e"
      },
      "outputs": [
        {
          "output_type": "stream",
          "name": "stdout",
          "text": [
            "Mounted at /content/drive\n"
          ]
        }
      ],
      "source": [
        "from google.colab import drive\n",
        "drive.mount('/content/drive')"
      ]
    },
    {
      "cell_type": "code",
      "execution_count": null,
      "metadata": {
        "id": "mHxbVRrgoK1B"
      },
      "outputs": [],
      "source": [
        "import torch \n",
        "import torch.nn as nn\n",
        "import torchvision.transforms.functional as TF \n",
        "\n",
        "class UNET(nn.Module):\n",
        "    \n",
        "    def __init__(self, in_channels=3, classes=25):\n",
        "        super(UNET, self).__init__()\n",
        "        self.layers = [in_channels, 32, 64, 128, 256, 512]\n",
        "\n",
        "        self.double_conv_downs = nn.ModuleList(\n",
        "            [self.__double_conv(layer, layer_n) for layer, layer_n in zip(self.layers[:-1], self.layers[1:])])\n",
        "        \n",
        "        self.up_trans = nn.ModuleList(\n",
        "            [nn.ConvTranspose2d(layer, layer_n, kernel_size=2, stride=2)\n",
        "             for layer, layer_n in zip(self.layers[::-1][:-2], self.layers[::-1][1:-1])])\n",
        "            \n",
        "        self.double_conv_ups = nn.ModuleList(\n",
        "        [self.__double_conv(layer, layer//2) for layer in self.layers[::-1][:-2]])\n",
        "        \n",
        "        self.max_pool_2x2 = nn.MaxPool2d(kernel_size=2, stride=2)\n",
        "        \n",
        "        self.final_conv = nn.Conv2d(32, classes, kernel_size=1)\n",
        "\n",
        "        \n",
        "    def __double_conv(self, in_channels, out_channels):\n",
        "        conv = nn.Sequential(\n",
        "            nn.Conv2d(in_channels, out_channels, kernel_size=3, padding=1, bias=False),\n",
        "            nn.BatchNorm2d(out_channels),\n",
        "            nn.ReLU(inplace=True),\n",
        "            nn.Conv2d(out_channels, out_channels, kernel_size=3, padding=1),\n",
        "            nn.ReLU(inplace=True)\n",
        "        )\n",
        "        return conv\n",
        "    \n",
        "    def forward(self, x):\n",
        "        # down layers\n",
        "        concat_layers = []\n",
        "        \n",
        "        for down in self.double_conv_downs:\n",
        "            x = down(x)\n",
        "            if down != self.double_conv_downs[-1]:\n",
        "                concat_layers.append(x)\n",
        "                x = self.max_pool_2x2(x)\n",
        "        \n",
        "        concat_layers = concat_layers[::-1]\n",
        "        \n",
        "        # up layers\n",
        "        for up_trans, double_conv_up, concat_layer  in zip(self.up_trans, self.double_conv_ups, concat_layers):\n",
        "            x = up_trans(x)\n",
        "            if x.shape != concat_layer.shape:\n",
        "                x = TF.resize(x, concat_layer.shape[2:])\n",
        "            \n",
        "            concatenated = torch.cat((concat_layer, x), dim=1)\n",
        "            x = double_conv_up(concatenated)\n",
        "            \n",
        "        x = self.final_conv(x)\n",
        "        \n",
        "        return x "
      ]
    },
    {
      "cell_type": "markdown",
      "metadata": {
        "id": "thN3eRKBpcRC"
      },
      "source": [
        "## Dataset"
      ]
    },
    {
      "cell_type": "code",
      "execution_count": null,
      "metadata": {
        "id": "t9WkXNivuoaq"
      },
      "outputs": [],
      "source": [
        "train_images_path = '/content/drive/Shareddrives/FDL_Group_Project/train_images/train_images/'\n",
        "train_masks_path = '/content/drive/Shareddrives/FDL_Group_Project/train_masks/train_masks/'\n",
        "val_images_path = '/content/drive/Shareddrives/FDL_Group_Project/val_images/val_images/'\n",
        "val_masks_path = '/content/drive/Shareddrives/FDL_Group_Project/val_masks/val_masks/'\n",
        "test_image_path = '/content/drive/Shareddrives/FDL_Group_Project/test_images/test_images/'"
      ]
    },
    {
      "cell_type": "code",
      "execution_count": null,
      "metadata": {
        "id": "80_1zvnDpa6l"
      },
      "outputs": [],
      "source": [
        "from PIL import Image \n",
        "import torch\n",
        "from torch.utils.data import Dataset\n",
        "from torchvision import transforms, datasets\n",
        "import numpy as np\n",
        "import os\n",
        "import glob\n",
        "\n",
        "class SegmentationDataset(Dataset):\n",
        "    def __init__(self, images_path, mask_path, transform=None, eval=False):\n",
        "        self.transform = transform\n",
        "\n",
        "        self.XImg_list = sorted(glob.glob(images_path+'*.jpg'))\n",
        "        self.yLabel_list = sorted(glob.glob(mask_path+'*.png'))\n",
        "        self.eval = eval\n",
        "                \n",
        "    def __len__(self):\n",
        "        return len(self.XImg_list) # Return the length of the data set\n",
        "    \n",
        "\n",
        "    def __getitem__(self, index):\n",
        "        image = Image.open(self.XImg_list[index])\n",
        "        y = Image.open(self.yLabel_list[index])\n",
        "\n",
        "        if self.transform is not None:\n",
        "            image = self.transform(image)\n",
        "            y = self.transform(y)\n",
        "\n",
        "        image = transforms.ToTensor()(image) # Rescale the image with value between 0 and 1\n",
        "        image = transforms.Normalize([0.4366, 0.4619, 0.3865],\n",
        "                                     [0.1814, 0.1643, 0.1887])(image)\n",
        "        y = np.array(y) # convert the mask to numpy array\n",
        "        y = torch.from_numpy(y)  # convert the mask to Tensor\n",
        "        \n",
        "        y = y.type(torch.LongTensor) # Change the type to LongTensor\n",
        "        return image, y"
      ]
    },
    {
      "cell_type": "markdown",
      "metadata": {
        "id": "MpcSeHU-4UXk"
      },
      "source": [
        "## Dataset Loader"
      ]
    },
    {
      "cell_type": "code",
      "execution_count": null,
      "metadata": {
        "id": "KxpCi3Lo4Yoq"
      },
      "outputs": [],
      "source": [
        "import torch\n",
        "from torch.utils.data import DataLoader\n",
        "from torchvision import datasets, utils, transforms\n",
        "#from datasets import SegmentationDataset #Uncomment if .py file\n",
        "from PIL import Image\n",
        "from tqdm import tqdm\n",
        "import numpy as np"
      ]
    },
    {
      "cell_type": "code",
      "execution_count": null,
      "metadata": {
        "id": "qLB2WXjc5jAf"
      },
      "outputs": [],
      "source": [
        "def get_dataloader(\n",
        "    images_path,\n",
        "    mask_path,\n",
        "    transforms=None,\n",
        "    batch_size=1,\n",
        "    eval=False,\n",
        "    shuffle=True,\n",
        "    pin_memory=True,\n",
        "    ):\n",
        "  \n",
        "  dataset = SegmentationDataset(images_path=images_path, mask_path=mask_path, transform=transforms, eval=eval)\n",
        "\n",
        "  dataloaded = DataLoader(dataset, batch_size=batch_size, shuffle=shuffle, pin_memory=pin_memory)\n",
        "\n",
        "  return dataloaded"
      ]
    },
    {
      "cell_type": "markdown",
      "metadata": {
        "id": "93S8LN4qk8WV"
      },
      "source": [
        "# Useful functions"
      ]
    },
    {
      "cell_type": "markdown",
      "metadata": {
        "id": "vrGur9YQ61yM"
      },
      "source": [
        "## Save predictions as images"
      ]
    },
    {
      "cell_type": "code",
      "execution_count": null,
      "metadata": {
        "id": "4vbDo-KynMMQ"
      },
      "outputs": [],
      "source": [
        "def save_as_images(tensor_pred, folder, image_name):\n",
        "    \n",
        "    for element in range(tensor_pred.shape[0]):\n",
        "        \n",
        "        tensor_resized = tensor_pred\n",
        "\n",
        "        # Get the original image size\n",
        "        img_name = image_name[element]\n",
        "        test_img = Image.open(img_name)\n",
        "        original_shape = test_img.size\n",
        "        height = original_shape[0]\n",
        "        width =  original_shape[1]\n",
        "\n",
        "        # Resize the tensor\n",
        "        tensor_resized = transforms.Resize((width, height), interpolation=Image.NEAREST)(tensor_resized)\n",
        "     \n",
        "        mask_pred = tensor_resized[element]        \n",
        "\n",
        "        # Get the image name\n",
        "        img_name = str(img_name)\n",
        "        pos = img_name.rfind('/', 0, len(img_name))\n",
        "        name = img_name[pos+1:-4]\n",
        "\n",
        "        mask_pred = transforms.ToPILImage()(mask_pred.byte())\n",
        "        filename = '{0}/{1}.png'.format(folder, name)\n",
        "\n",
        "        mask_pred.save(filename)"
      ]
    },
    {
      "cell_type": "markdown",
      "metadata": {
        "id": "Jq94YSUpkVi4"
      },
      "source": [
        "## Write results on a .txt file\n"
      ]
    },
    {
      "cell_type": "code",
      "execution_count": null,
      "metadata": {
        "id": "c9KdlzN1WHEj"
      },
      "outputs": [],
      "source": [
        "def write_results(ff, save_folder, epoch, train_acc, val_acc, train_loss, val_loss):\n",
        "    ff=open('{}/progress.txt'.format(save_folder),'a')\n",
        "    ff.write(' E: ')\n",
        "    ff.write(str(epoch))\n",
        "    ff.write('         ')\n",
        "    ff.write(' TRAIN_OA: ')\n",
        "    ff.write(str('%.3f' % train_acc))\n",
        "    ff.write(' VAL_OA: ')\n",
        "    ff.write(str('%.3f' % val_acc))\n",
        "    ff.write('         ')\n",
        "    ff.write(' TRAIN_LOSS: ')\n",
        "    ff.write(str('%.3f' % train_loss))\n",
        "    ff.write(' VAL_LOSS: ')\n",
        "    ff.write(str('%.3f' % val_loss))\n",
        "    ff.write('\\n')"
      ]
    },
    {
      "cell_type": "markdown",
      "metadata": {
        "id": "A8QZ8dnvkh8D"
      },
      "source": [
        "## Compute accuracy"
      ]
    },
    {
      "cell_type": "code",
      "execution_count": null,
      "metadata": {
        "id": "M48WKGApa5Cr"
      },
      "outputs": [],
      "source": [
        "def model_accuracy(output, target):\n",
        "\n",
        "  # Transform the output to get the right format\n",
        "  output_softmax = F.softmax(output, dim=1)\n",
        "  output_argmax = torch.argmax(output_softmax, dim=1)\n",
        "\n",
        "  # Get the correct predictions as a boolean mask\n",
        "  corrects = (output_argmax  == y)\n",
        "\n",
        "  # Compute accuracy\n",
        "  accuracy = corrects.sum().float() / float( y.size(0) * y.size(1) * y.size(2) )\n",
        "\n",
        "  return accuracy * 100"
      ]
    },
    {
      "cell_type": "markdown",
      "metadata": {
        "id": "b3tRsuAYkq91"
      },
      "source": [
        "## Create train-val graph and save the figure"
      ]
    },
    {
      "cell_type": "code",
      "execution_count": null,
      "metadata": {
        "id": "D8kPy9uZn9RZ"
      },
      "outputs": [],
      "source": [
        "import matplotlib.pyplot as plt\n",
        "# create a function that creates train-val loss graph and saves the figure in a destination folder\n",
        "def save_graph(train_loss, val_loss, nb_epochs, save_folder):\n",
        "    plt.plot(list(range(nb_epochs+1))[1:], train_loss)\n",
        "    plt.plot(list(range(nb_epochs+1))[1:], val_loss)\n",
        "    plt.legend(['train', 'val'])\n",
        "    plt.xlabel('Epochs')\n",
        "    plt.ylabel('Loss')\n",
        "    plt.savefig('{}/chart.png'.format(save_folder))"
      ]
    },
    {
      "cell_type": "markdown",
      "metadata": {
        "id": "4nI9W0fs7FoI"
      },
      "source": [
        "# Model training - DO NOT PRESS THE BUTTON"
      ]
    },
    {
      "cell_type": "code",
      "execution_count": null,
      "metadata": {
        "id": "Tm2aeJlk7Hkn"
      },
      "outputs": [],
      "source": [
        "import torch \n",
        "import torch.optim as optim\n",
        "import torch.nn as nn\n",
        "import torch.nn.functional as F\n",
        "from torchvision import transforms\n",
        "from tqdm import tqdm"
      ]
    },
    {
      "cell_type": "code",
      "execution_count": null,
      "metadata": {
        "colab": {
          "base_uri": "https://localhost:8080/"
        },
        "id": "Ia1MtwhZ73X9",
        "outputId": "5fc20891-0db1-4f5a-8cc8-f001a1acd5fa"
      },
      "outputs": [
        {
          "output_type": "stream",
          "name": "stdout",
          "text": [
            "Running on the GPU\n"
          ]
        }
      ],
      "source": [
        "if torch.cuda.is_available():\n",
        "    device = 'cuda:0'\n",
        "    print('Running on the GPU')\n",
        "else:\n",
        "    device = \"cpu\"\n",
        "    print('Running on the CPU')"
      ]
    },
    {
      "cell_type": "code",
      "execution_count": null,
      "metadata": {
        "id": "A4bebvDz77gt"
      },
      "outputs": [],
      "source": [
        "# create a directory for saving the models and the training progress\n",
        "save_folder = '/content/drive/Shareddrives/FDL_Group_Project/models_UNET'\n",
        "\n",
        "load_model = False\n",
        "\n",
        "train_images_path = '/content/drive/Shareddrives/FDL_Group_Project/train_images/train_images/'\n",
        "train_masks_path = '/content/drive/Shareddrives/FDL_Group_Project/train_masks/train_masks/'\n",
        "\n",
        "img_height = 360 \n",
        "img_width = 360 \n",
        "\n",
        "batch_size = 16 \n",
        "learning_rate = 0.001 \n",
        "epochs = 50\n",
        "\n",
        "model_path = \"/content/drive/Shareddrives/FDL_Group_Project/models_UNET/model_79.pt\""
      ]
    },
    {
      "cell_type": "markdown",
      "metadata": {
        "id": "dLyV3f3QwKB9"
      },
      "source": [
        "### Without image augmentation (Albumentation package)"
      ]
    },
    {
      "cell_type": "code",
      "execution_count": null,
      "metadata": {
        "colab": {
          "base_uri": "https://localhost:8080/"
        },
        "id": "R4-qVqWol99P",
        "outputId": "f3599543-64f6-4216-8a18-ac970319b378"
      },
      "outputs": [
        {
          "output_type": "stream",
          "name": "stderr",
          "text": [
            "/usr/local/lib/python3.7/dist-packages/torchvision/transforms/transforms.py:288: UserWarning: Argument interpolation should be of type InterpolationMode instead of int. Please, use InterpolationMode enum.\n",
            "  \"Argument interpolation should be of type InterpolationMode instead of int. \"\n",
            "100%|██████████| 15/15 [01:31<00:00,  6.09s/it]\n",
            "100%|██████████| 2/2 [00:06<00:00,  3.50s/it]\n"
          ]
        },
        {
          "output_type": "stream",
          "name": "stdout",
          "text": [
            "EPOCH:  1\n",
            "TRAIN_LOSS:  2.852 TRAIN_ACC:  25.192\n",
            "VAL_LOSS:  2.764 VAL_ACC:  26.786\n"
          ]
        },
        {
          "output_type": "stream",
          "name": "stderr",
          "text": [
            "100%|██████████| 15/15 [01:28<00:00,  5.93s/it]\n",
            "100%|██████████| 2/2 [00:07<00:00,  3.52s/it]\n"
          ]
        },
        {
          "output_type": "stream",
          "name": "stdout",
          "text": [
            "EPOCH:  2\n",
            "TRAIN_LOSS:  2.193 TRAIN_ACC:  33.846\n",
            "VAL_LOSS:  2.162 VAL_ACC:  23.455\n"
          ]
        },
        {
          "output_type": "stream",
          "name": "stderr",
          "text": [
            "100%|██████████| 15/15 [01:31<00:00,  6.07s/it]\n",
            "100%|██████████| 2/2 [00:07<00:00,  3.58s/it]\n"
          ]
        },
        {
          "output_type": "stream",
          "name": "stdout",
          "text": [
            "EPOCH:  3\n",
            "TRAIN_LOSS:  1.999 TRAIN_ACC:  36.140\n",
            "VAL_LOSS:  1.972 VAL_ACC:  32.296\n"
          ]
        },
        {
          "output_type": "stream",
          "name": "stderr",
          "text": [
            " 73%|███████▎  | 11/15 [01:06<00:23,  5.92s/it]"
          ]
        }
      ],
      "source": [
        "from tqdm import tqdm\n",
        "\n",
        "# Open the .txt file\n",
        "ff=open('{}/progress.txt'.format(save_folder),'w')\n",
        "\n",
        "# Defining the model, optimizer and loss function\n",
        "model = UNET(in_channels=3, classes=25).to(device)\n",
        "optimizer = optim.Adam(model.parameters(), lr=learning_rate)\n",
        "criterion = nn.CrossEntropyLoss(ignore_index=255)\n",
        "\n",
        "total_train_losses = []\n",
        "total_val_losses = []\n",
        "e = 0\n",
        "\n",
        "# UNCOMMENT to Train a pretrained model\n",
        "if load_model == True:\n",
        "  checkpoint = torch.load(model_path)\n",
        "  model.load_state_dict(checkpoint['model_state_dict'])\n",
        "  optimizer.load_state_dict(checkpoint['optim_state_dict'])\n",
        "  e = checkpoint['epoch']+1\n",
        "  total_train_losses = checkpoint['train_loss_values']\n",
        "  total_val_losses = checkpoint['val_loss_values']\n",
        "  print(\"Model successfully loaded!\")\n",
        "\n",
        "# Defining the transform\n",
        "torch.manual_seed(18)\n",
        "\n",
        "train_transform = transforms.Compose([\n",
        "        transforms.Resize((img_height, img_width), interpolation=Image.BILINEAR\n",
        "        transforms.RandomHorizontalFlip(p=0.5),\n",
        "        transforms.RandomRotation(degrees=45),\n",
        "    ])\n",
        "\n",
        "\n",
        "val_transform = transforms.Compose([\n",
        "        transforms.Resize((img_height, img_width), interpolation=Image.BILINEAR),\n",
        "    ])\n",
        "\n",
        "\n",
        "train_set = get_dataloader(\n",
        "    train_images_path,\n",
        "    train_masks_path,\n",
        "    transforms=train_transform,\n",
        "    batch_size=batch_size,\n",
        "    shuffle=True,\n",
        "    )\n",
        "\n",
        "val_set = get_dataloader(\n",
        "    val_images_path,\n",
        "    val_masks_path,\n",
        "    transforms=val_transform,\n",
        "    batch_size=batch_size,\n",
        "    shuffle=True,\n",
        "    eval=True\n",
        "    )\n",
        "\n",
        "\n",
        "for epoch in range(1 + e, e+epochs+1):\n",
        "  # TRAINING\n",
        "  model.train()\n",
        "  train_losses = []\n",
        "  train_accuracy = []\n",
        "\n",
        "  for index, batch in enumerate(tqdm(train_set)): \n",
        "        X, y = batch\n",
        "        X, y = X.to(device), y.to(device)\n",
        "        output = model(X)\n",
        "    \n",
        "        loss = criterion(output, y)\n",
        "        train_acc = model_accuracy(output, y)\n",
        "\n",
        "        optimizer.zero_grad()\n",
        "        loss.backward()\n",
        "        optimizer.step()\n",
        "\n",
        "        train_losses.append(loss.item())\n",
        "        train_accuracy.append(train_acc)\n",
        "        \n",
        "\n",
        "  train_acc_mean = torch.mean(torch.stack(train_accuracy))\n",
        "  train_loss_mean = np.mean(train_losses)\n",
        "  total_train_losses.append(train_loss_mean)\n",
        "\n",
        "\n",
        "  ##VALIDATION##\n",
        "  model.eval()\n",
        "  val_losses = []\n",
        "  val_accuracy = []\n",
        "\n",
        "  for index, batch in enumerate(tqdm(val_set)): \n",
        "        X, y = batch\n",
        "        X, y = X.to(device), y.to(device)\n",
        "        outputs = model(X)\n",
        "        val_acc = model_accuracy(outputs, y)\n",
        "\n",
        "        loss = criterion(outputs, y)\n",
        "\n",
        "        val_losses.append(loss.item())\n",
        "        val_accuracy.append(val_acc)\n",
        "\n",
        "  val_acc_mean = torch.mean(torch.stack(val_accuracy))\n",
        "  val_loss_mean = np.mean(val_losses)\n",
        "  total_val_losses.append(val_loss_mean)\n",
        "\n",
        "  print('EPOCH: ', epoch)\n",
        "  print('TRAIN_LOSS: ', '%.3f' % train_loss_mean, 'TRAIN_ACC: ', '%.3f' % train_acc_mean)\n",
        "  print('VAL_LOSS: ', '%.3f' % val_loss_mean, 'VAL_ACC: ', '%.3f' % val_acc_mean)\n",
        "\n",
        "  write_results(ff, save_folder, epoch, train_acc_mean, val_acc_mean, train_loss_mean, val_loss_mean)\n",
        "\n",
        "  torch.save({\n",
        "            'model_state_dict': model.state_dict(),\n",
        "            'optim_state_dict': optimizer.state_dict(),\n",
        "            'epoch': epoch,\n",
        "            'train_loss_values': total_train_losses,\n",
        "            'val_loss_values': total_val_losses,\n",
        "        }, save_folder + '/model_{}.pt'.format(epoch))\n",
        " \n",
        "save_graph(total_train_losses, total_val_losses, epochs, save_folder)\n"
      ]
    },
    {
      "cell_type": "markdown",
      "metadata": {
        "id": "Vc2GaWR4fLWq"
      },
      "source": [
        "# Predictions on test set"
      ]
    },
    {
      "cell_type": "markdown",
      "metadata": {
        "id": "9kSTc7HnAeM-"
      },
      "source": [
        "## Preprocessing of the test images"
      ]
    },
    {
      "cell_type": "code",
      "execution_count": null,
      "metadata": {
        "id": "tVOvHw6e7OA6"
      },
      "outputs": [],
      "source": [
        "# Create a class to get the test images\n",
        "\n",
        "from torch.utils.data import Dataset\n",
        "\n",
        "class TestImages(Dataset):\n",
        "  def __init__(self, images_path, transform=None):\n",
        "\n",
        "    self.transform = transform\n",
        "    self.XImg_list = sorted(glob.glob(images_path+'*.jpg'))\n",
        "\n",
        "  def __len__(self):\n",
        "    return len(self.XImg_list) # Return the length of the data set\n",
        "\n",
        "  def __getitem__(self, index):\n",
        "    image = Image.open(self.XImg_list[index])\n",
        "\n",
        "    if self.transform is not None:\n",
        "      image = self.transform(image)\n",
        "\n",
        "    image = transforms.ToTensor()(image) # Rescale the image with value between 0 and 1\n",
        "    image = transforms.Normalize([0.4366, 0.4619, 0.3865],\n",
        "                                     [0.1814, 0.1643, 0.1887])(image)\n",
        "\n",
        "\n",
        "    # return the mask and its name in the root directory\n",
        "    return image, self.XImg_list[index]\n",
        "    "
      ]
    },
    {
      "cell_type": "code",
      "execution_count": null,
      "metadata": {
        "colab": {
          "base_uri": "https://localhost:8080/"
        },
        "id": "9BstQ3I-8W6b",
        "outputId": "f4bba325-9fcf-4350-c58d-c3b5e9c98b50"
      },
      "outputs": [
        {
          "output_type": "stream",
          "name": "stderr",
          "text": [
            "/usr/local/lib/python3.7/dist-packages/torchvision/transforms/transforms.py:288: UserWarning: Argument interpolation should be of type InterpolationMode instead of int. Please, use InterpolationMode enum.\n",
            "  \"Argument interpolation should be of type InterpolationMode instead of int. \"\n"
          ]
        }
      ],
      "source": [
        "test_image_path = '/content/drive/Shareddrives/FDL_Group_Project/test_images/test_images/'\n",
        "\n",
        "# Defining the transform\n",
        "transform = transforms.Compose([\n",
        "        transforms.Resize((img_height, img_width), interpolation=Image.BILINEAR),\n",
        "    ])\n",
        "\n",
        "# Get the image\n",
        "test_images = TestImages(test_image_path, transform=transform)\n",
        "\n",
        "# Dataload the test images\n",
        "test_set = DataLoader(test_images, batch_size=batch_size, shuffle=False, pin_memory=True)"
      ]
    },
    {
      "cell_type": "markdown",
      "metadata": {
        "id": "ZqJXUuBXAqpm"
      },
      "source": [
        "## Predictions on the test set"
      ]
    },
    {
      "cell_type": "code",
      "execution_count": null,
      "metadata": {
        "colab": {
          "base_uri": "https://localhost:8080/"
        },
        "id": "WVb7sQsRfKr4",
        "outputId": "f61aa0d9-921e-45a0-81b7-fee2aa79945b"
      },
      "outputs": [
        {
          "output_type": "stream",
          "name": "stderr",
          "text": [
            "\r  0%|          | 0/7 [00:00<?, ?it/s]/usr/local/lib/python3.7/dist-packages/torchvision/transforms/transforms.py:288: UserWarning: Argument interpolation should be of type InterpolationMode instead of int. Please, use InterpolationMode enum.\n",
            "  \"Argument interpolation should be of type InterpolationMode instead of int. \"\n",
            "100%|██████████| 7/7 [00:55<00:00,  7.99s/it]\n"
          ]
        }
      ],
      "source": [
        "# Defining the model\n",
        "# device = \"cpu\"\n",
        "model = UNET(in_channels=3, classes=25).to(device)\n",
        "\n",
        "# Load the model\n",
        "model_path = \"/content/drive/Shareddrives/FDL_Group_Project/models_UNET/model_79.pt\"\n",
        "predictions_path = \"/content/drive/Shareddrives/FDL_Group_Project/models_UNET/test_preds\"\n",
        "\n",
        "# checkpoint = torch.load(model_path, map_location ='cpu')\n",
        "checkpoint = torch.load(model_path)\n",
        "model.load_state_dict(checkpoint['model_state_dict'])\n",
        "model.eval()\n",
        "\n",
        "with torch.no_grad():\n",
        "    for index, batch in enumerate(tqdm(test_set)): \n",
        "        \n",
        "        X, name_img = batch\n",
        "        X = X.to(device)\n",
        "        y_pred = model(X)\n",
        "\n",
        "        y_pred_labels = F.softmax(y_pred, dim=1)                      # Apply the softmax to get the probability\n",
        "        y_pred_labels = torch.argmax(y_pred_labels, dim=1)            # Apply the argmax on the 1 dimension to get the labels on the mask and get the right dimension\n",
        "\n",
        "        # Configure filename & location to save predictions as images\n",
        "        save_as_images(y_pred_labels, predictions_path, name_img)\n"
      ]
    },
    {
      "cell_type": "markdown",
      "metadata": {
        "id": "3y4P3TiByuBD"
      },
      "source": [
        "# Create the submission"
      ]
    },
    {
      "cell_type": "markdown",
      "metadata": {
        "id": "ZbKAysqYzMv8"
      },
      "source": [
        "## Code from prepare_submission.py file"
      ]
    },
    {
      "cell_type": "code",
      "execution_count": null,
      "metadata": {
        "id": "x0XtYH1sy0Tp"
      },
      "outputs": [],
      "source": [
        "import os\n",
        "\n",
        "from PIL import Image\n",
        "import numpy as np\n",
        "\n",
        "def rle_encode(img):\n",
        "    '''\n",
        "    img: numpy array, 1 - mask, 0 - background\n",
        "    Returns run length as string formated\n",
        "    '''\n",
        "    pixels = img.flatten()\n",
        "    pixels = np.concatenate([[0], pixels, [0]])\n",
        "    runs = np.where(pixels[1:] != pixels[:-1])[0] + 1\n",
        "    runs[1::2] -= runs[::2]\n",
        "    return ' '.join(str(x) for x in runs)\n",
        "\n",
        "def rle_decode(mask_rle, shape):\n",
        "    '''\n",
        "    mask_rle: run-length as string formated (start length)\n",
        "    shape: (height,width) of array to return\n",
        "    Returns numpy array, 1 - mask, 0 - background\n",
        "    '''\n",
        "    s = mask_rle.split()\n",
        "    starts, lengths = [np.asarray(x, dtype=int) for x in (s[0:][::2], s[1:][::2])]\n",
        "    starts -= 1\n",
        "    ends = starts + lengths\n",
        "    img = np.zeros(shape[0]*shape[1], dtype=np.uint8)\n",
        "    for lo, hi in zip(starts, ends):\n",
        "        img[lo:hi] = 1\n",
        "    return img.reshape(shape)\n",
        "\n",
        "\n",
        "def create_rles():\n",
        "    \"\"\"Used for Kaggle submission: predicts and encode all test images\"\"\"\n",
        "    dir = '/content/drive/Shareddrives/FDL_Group_Project/models_UNET/test_preds/'\n",
        "    N = len(list(os.listdir(dir)))\n",
        "    with open('submission_file.csv', 'w') as f:\n",
        "        f.write('ImageClassId,rle_mask\\n')\n",
        "        for index, i in enumerate(os.listdir(dir)):\n",
        "            # print('{}/{}'.format(index, N))\n",
        "\n",
        "            mask = Image.open(dir + i)\n",
        "            mask = mask.resize((1024, 1024), resample=Image.NEAREST)\n",
        "            mask = np.array(mask)\n",
        "\n",
        "            for x in range(1, 25):\n",
        "                enc = rle_encode(mask == x)\n",
        "                f.write(f\"{i.split('_')[0]}_{x},{enc}\\n\")\n",
        "\n",
        "create_rles()"
      ]
    },
    {
      "cell_type": "code",
      "execution_count": null,
      "metadata": {
        "colab": {
          "base_uri": "https://localhost:8080/",
          "height": 354
        },
        "id": "MdDATKTgZiiq",
        "outputId": "727d9181-1e3a-42d9-e8c1-de92269bcaaa"
      },
      "outputs": [
        {
          "output_type": "stream",
          "name": "stdout",
          "text": [
            "112\n",
            "test_images[idx] : /content/drive/Shareddrives/FDL_Group_Project/test_images/test_images/7541.jpg\n",
            "Test_img : <PIL.JpegImagePlugin.JpegImageFile image mode=RGB size=3072x4592 at 0x7FB0D8698D10>\n",
            "Image Size: (3072, 4592)\n",
            "Mask Size: (3072, 4592)\n"
          ]
        },
        {
          "output_type": "display_data",
          "data": {
            "image/png": "[encoded data removed]",
            "text/plain": [
              "<Figure size 432x288 with 1 Axes>"
            ]
          },
          "metadata": {
            "needs_background": "light"
          }
        }
      ],
      "source": [
        "test_preds_path  = '/content/drive/Shareddrives/FDL_Group_Project/models_UNET/test_preds/'\n",
        "\n",
        "# Show simulated mask \n",
        "test_images = sorted(glob.glob(test_image_path+'*.jpg'))\n",
        "test_mask = sorted(glob.glob(test_preds_path+'*.png'))\n",
        "\n",
        "print(len(test_mask))\n",
        "\n",
        "# Randomly select and image/mask pair from the training set\n",
        "idx = np.random.choice(range(len(test_images)))\n",
        "test_img = Image.open(test_images[idx])\n",
        "test_msk = Image.open(test_mask[idx])\n",
        "\n",
        "print('test_images[idx] :', test_images[idx])\n",
        "print(\"Test_img :\", test_img)\n",
        "\n",
        "print('Image Size:',test_img.size)\n",
        "print('Mask Size:',test_msk.size)\n",
        "\n",
        "# Show the image\n",
        "plt.imshow(test_img.resize((1000,1000)))\n",
        "plt.imshow(test_msk.resize((1000,1000)), alpha=0.5)\n",
        "plt.show()"
      ]
    }
  ],
  "metadata": {
    "accelerator": "GPU",
    "colab": {
      "collapsed_sections": [],
      "machine_shape": "hm",
      "name": "Copie de Model_UNET.ipynb",
      "provenance": []
    },
    "kernelspec": {
      "display_name": "Python 3",
      "name": "python3"
    },
    "language_info": {
      "name": "python"
    }
  },
  "nbformat": 4,
  "nbformat_minor": 0
}